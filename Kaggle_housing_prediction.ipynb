{
 "cells": [
  {
   "cell_type": "markdown",
   "metadata": {},
   "source": [
    "# Import important Libraries"
   ]
  },
  {
   "cell_type": "code",
   "execution_count": 1,
   "metadata": {},
   "outputs": [],
   "source": [
    "import pandas as pd\n",
    "import numpy as np\n",
    "from pandas.plotting import scatter_matrix\n",
    "import matplotlib.pyplot as plt\n",
    "from sklearn import model_selection\n",
    "import seaborn as sns\n",
    "%matplotlib inline\n",
    "from sklearn.linear_model import LinearRegression\n",
    "from sklearn.model_selection import train_test_split"
   ]
  },
  {
   "cell_type": "code",
   "execution_count": 2,
   "metadata": {},
   "outputs": [
    {
     "data": {
      "text/html": [
       "<div>\n",
       "<style scoped>\n",
       "    .dataframe tbody tr th:only-of-type {\n",
       "        vertical-align: middle;\n",
       "    }\n",
       "\n",
       "    .dataframe tbody tr th {\n",
       "        vertical-align: top;\n",
       "    }\n",
       "\n",
       "    .dataframe thead th {\n",
       "        text-align: right;\n",
       "    }\n",
       "</style>\n",
       "<table border=\"1\" class=\"dataframe\">\n",
       "  <thead>\n",
       "    <tr style=\"text-align: right;\">\n",
       "      <th></th>\n",
       "      <th>Id</th>\n",
       "      <th>MSSubClass</th>\n",
       "      <th>MSZoning</th>\n",
       "      <th>LotFrontage</th>\n",
       "      <th>LotArea</th>\n",
       "      <th>Street</th>\n",
       "      <th>Alley</th>\n",
       "      <th>LotShape</th>\n",
       "      <th>LandContour</th>\n",
       "      <th>Utilities</th>\n",
       "      <th>...</th>\n",
       "      <th>PoolArea</th>\n",
       "      <th>PoolQC</th>\n",
       "      <th>Fence</th>\n",
       "      <th>MiscFeature</th>\n",
       "      <th>MiscVal</th>\n",
       "      <th>MoSold</th>\n",
       "      <th>YrSold</th>\n",
       "      <th>SaleType</th>\n",
       "      <th>SaleCondition</th>\n",
       "      <th>SalePrice</th>\n",
       "    </tr>\n",
       "  </thead>\n",
       "  <tbody>\n",
       "    <tr>\n",
       "      <th>0</th>\n",
       "      <td>1</td>\n",
       "      <td>60</td>\n",
       "      <td>RL</td>\n",
       "      <td>65.0</td>\n",
       "      <td>8450</td>\n",
       "      <td>Pave</td>\n",
       "      <td>NaN</td>\n",
       "      <td>Reg</td>\n",
       "      <td>Lvl</td>\n",
       "      <td>AllPub</td>\n",
       "      <td>...</td>\n",
       "      <td>0</td>\n",
       "      <td>NaN</td>\n",
       "      <td>NaN</td>\n",
       "      <td>NaN</td>\n",
       "      <td>0</td>\n",
       "      <td>2</td>\n",
       "      <td>2008</td>\n",
       "      <td>WD</td>\n",
       "      <td>Normal</td>\n",
       "      <td>208500</td>\n",
       "    </tr>\n",
       "    <tr>\n",
       "      <th>1</th>\n",
       "      <td>2</td>\n",
       "      <td>20</td>\n",
       "      <td>RL</td>\n",
       "      <td>80.0</td>\n",
       "      <td>9600</td>\n",
       "      <td>Pave</td>\n",
       "      <td>NaN</td>\n",
       "      <td>Reg</td>\n",
       "      <td>Lvl</td>\n",
       "      <td>AllPub</td>\n",
       "      <td>...</td>\n",
       "      <td>0</td>\n",
       "      <td>NaN</td>\n",
       "      <td>NaN</td>\n",
       "      <td>NaN</td>\n",
       "      <td>0</td>\n",
       "      <td>5</td>\n",
       "      <td>2007</td>\n",
       "      <td>WD</td>\n",
       "      <td>Normal</td>\n",
       "      <td>181500</td>\n",
       "    </tr>\n",
       "    <tr>\n",
       "      <th>2</th>\n",
       "      <td>3</td>\n",
       "      <td>60</td>\n",
       "      <td>RL</td>\n",
       "      <td>68.0</td>\n",
       "      <td>11250</td>\n",
       "      <td>Pave</td>\n",
       "      <td>NaN</td>\n",
       "      <td>IR1</td>\n",
       "      <td>Lvl</td>\n",
       "      <td>AllPub</td>\n",
       "      <td>...</td>\n",
       "      <td>0</td>\n",
       "      <td>NaN</td>\n",
       "      <td>NaN</td>\n",
       "      <td>NaN</td>\n",
       "      <td>0</td>\n",
       "      <td>9</td>\n",
       "      <td>2008</td>\n",
       "      <td>WD</td>\n",
       "      <td>Normal</td>\n",
       "      <td>223500</td>\n",
       "    </tr>\n",
       "    <tr>\n",
       "      <th>3</th>\n",
       "      <td>4</td>\n",
       "      <td>70</td>\n",
       "      <td>RL</td>\n",
       "      <td>60.0</td>\n",
       "      <td>9550</td>\n",
       "      <td>Pave</td>\n",
       "      <td>NaN</td>\n",
       "      <td>IR1</td>\n",
       "      <td>Lvl</td>\n",
       "      <td>AllPub</td>\n",
       "      <td>...</td>\n",
       "      <td>0</td>\n",
       "      <td>NaN</td>\n",
       "      <td>NaN</td>\n",
       "      <td>NaN</td>\n",
       "      <td>0</td>\n",
       "      <td>2</td>\n",
       "      <td>2006</td>\n",
       "      <td>WD</td>\n",
       "      <td>Abnorml</td>\n",
       "      <td>140000</td>\n",
       "    </tr>\n",
       "    <tr>\n",
       "      <th>4</th>\n",
       "      <td>5</td>\n",
       "      <td>60</td>\n",
       "      <td>RL</td>\n",
       "      <td>84.0</td>\n",
       "      <td>14260</td>\n",
       "      <td>Pave</td>\n",
       "      <td>NaN</td>\n",
       "      <td>IR1</td>\n",
       "      <td>Lvl</td>\n",
       "      <td>AllPub</td>\n",
       "      <td>...</td>\n",
       "      <td>0</td>\n",
       "      <td>NaN</td>\n",
       "      <td>NaN</td>\n",
       "      <td>NaN</td>\n",
       "      <td>0</td>\n",
       "      <td>12</td>\n",
       "      <td>2008</td>\n",
       "      <td>WD</td>\n",
       "      <td>Normal</td>\n",
       "      <td>250000</td>\n",
       "    </tr>\n",
       "    <tr>\n",
       "      <th>5</th>\n",
       "      <td>6</td>\n",
       "      <td>50</td>\n",
       "      <td>RL</td>\n",
       "      <td>85.0</td>\n",
       "      <td>14115</td>\n",
       "      <td>Pave</td>\n",
       "      <td>NaN</td>\n",
       "      <td>IR1</td>\n",
       "      <td>Lvl</td>\n",
       "      <td>AllPub</td>\n",
       "      <td>...</td>\n",
       "      <td>0</td>\n",
       "      <td>NaN</td>\n",
       "      <td>MnPrv</td>\n",
       "      <td>Shed</td>\n",
       "      <td>700</td>\n",
       "      <td>10</td>\n",
       "      <td>2009</td>\n",
       "      <td>WD</td>\n",
       "      <td>Normal</td>\n",
       "      <td>143000</td>\n",
       "    </tr>\n",
       "    <tr>\n",
       "      <th>6</th>\n",
       "      <td>7</td>\n",
       "      <td>20</td>\n",
       "      <td>RL</td>\n",
       "      <td>75.0</td>\n",
       "      <td>10084</td>\n",
       "      <td>Pave</td>\n",
       "      <td>NaN</td>\n",
       "      <td>Reg</td>\n",
       "      <td>Lvl</td>\n",
       "      <td>AllPub</td>\n",
       "      <td>...</td>\n",
       "      <td>0</td>\n",
       "      <td>NaN</td>\n",
       "      <td>NaN</td>\n",
       "      <td>NaN</td>\n",
       "      <td>0</td>\n",
       "      <td>8</td>\n",
       "      <td>2007</td>\n",
       "      <td>WD</td>\n",
       "      <td>Normal</td>\n",
       "      <td>307000</td>\n",
       "    </tr>\n",
       "    <tr>\n",
       "      <th>7</th>\n",
       "      <td>8</td>\n",
       "      <td>60</td>\n",
       "      <td>RL</td>\n",
       "      <td>NaN</td>\n",
       "      <td>10382</td>\n",
       "      <td>Pave</td>\n",
       "      <td>NaN</td>\n",
       "      <td>IR1</td>\n",
       "      <td>Lvl</td>\n",
       "      <td>AllPub</td>\n",
       "      <td>...</td>\n",
       "      <td>0</td>\n",
       "      <td>NaN</td>\n",
       "      <td>NaN</td>\n",
       "      <td>Shed</td>\n",
       "      <td>350</td>\n",
       "      <td>11</td>\n",
       "      <td>2009</td>\n",
       "      <td>WD</td>\n",
       "      <td>Normal</td>\n",
       "      <td>200000</td>\n",
       "    </tr>\n",
       "    <tr>\n",
       "      <th>8</th>\n",
       "      <td>9</td>\n",
       "      <td>50</td>\n",
       "      <td>RM</td>\n",
       "      <td>51.0</td>\n",
       "      <td>6120</td>\n",
       "      <td>Pave</td>\n",
       "      <td>NaN</td>\n",
       "      <td>Reg</td>\n",
       "      <td>Lvl</td>\n",
       "      <td>AllPub</td>\n",
       "      <td>...</td>\n",
       "      <td>0</td>\n",
       "      <td>NaN</td>\n",
       "      <td>NaN</td>\n",
       "      <td>NaN</td>\n",
       "      <td>0</td>\n",
       "      <td>4</td>\n",
       "      <td>2008</td>\n",
       "      <td>WD</td>\n",
       "      <td>Abnorml</td>\n",
       "      <td>129900</td>\n",
       "    </tr>\n",
       "    <tr>\n",
       "      <th>9</th>\n",
       "      <td>10</td>\n",
       "      <td>190</td>\n",
       "      <td>RL</td>\n",
       "      <td>50.0</td>\n",
       "      <td>7420</td>\n",
       "      <td>Pave</td>\n",
       "      <td>NaN</td>\n",
       "      <td>Reg</td>\n",
       "      <td>Lvl</td>\n",
       "      <td>AllPub</td>\n",
       "      <td>...</td>\n",
       "      <td>0</td>\n",
       "      <td>NaN</td>\n",
       "      <td>NaN</td>\n",
       "      <td>NaN</td>\n",
       "      <td>0</td>\n",
       "      <td>1</td>\n",
       "      <td>2008</td>\n",
       "      <td>WD</td>\n",
       "      <td>Normal</td>\n",
       "      <td>118000</td>\n",
       "    </tr>\n",
       "    <tr>\n",
       "      <th>10</th>\n",
       "      <td>11</td>\n",
       "      <td>20</td>\n",
       "      <td>RL</td>\n",
       "      <td>70.0</td>\n",
       "      <td>11200</td>\n",
       "      <td>Pave</td>\n",
       "      <td>NaN</td>\n",
       "      <td>Reg</td>\n",
       "      <td>Lvl</td>\n",
       "      <td>AllPub</td>\n",
       "      <td>...</td>\n",
       "      <td>0</td>\n",
       "      <td>NaN</td>\n",
       "      <td>NaN</td>\n",
       "      <td>NaN</td>\n",
       "      <td>0</td>\n",
       "      <td>2</td>\n",
       "      <td>2008</td>\n",
       "      <td>WD</td>\n",
       "      <td>Normal</td>\n",
       "      <td>129500</td>\n",
       "    </tr>\n",
       "    <tr>\n",
       "      <th>11</th>\n",
       "      <td>12</td>\n",
       "      <td>60</td>\n",
       "      <td>RL</td>\n",
       "      <td>85.0</td>\n",
       "      <td>11924</td>\n",
       "      <td>Pave</td>\n",
       "      <td>NaN</td>\n",
       "      <td>IR1</td>\n",
       "      <td>Lvl</td>\n",
       "      <td>AllPub</td>\n",
       "      <td>...</td>\n",
       "      <td>0</td>\n",
       "      <td>NaN</td>\n",
       "      <td>NaN</td>\n",
       "      <td>NaN</td>\n",
       "      <td>0</td>\n",
       "      <td>7</td>\n",
       "      <td>2006</td>\n",
       "      <td>New</td>\n",
       "      <td>Partial</td>\n",
       "      <td>345000</td>\n",
       "    </tr>\n",
       "    <tr>\n",
       "      <th>12</th>\n",
       "      <td>13</td>\n",
       "      <td>20</td>\n",
       "      <td>RL</td>\n",
       "      <td>NaN</td>\n",
       "      <td>12968</td>\n",
       "      <td>Pave</td>\n",
       "      <td>NaN</td>\n",
       "      <td>IR2</td>\n",
       "      <td>Lvl</td>\n",
       "      <td>AllPub</td>\n",
       "      <td>...</td>\n",
       "      <td>0</td>\n",
       "      <td>NaN</td>\n",
       "      <td>NaN</td>\n",
       "      <td>NaN</td>\n",
       "      <td>0</td>\n",
       "      <td>9</td>\n",
       "      <td>2008</td>\n",
       "      <td>WD</td>\n",
       "      <td>Normal</td>\n",
       "      <td>144000</td>\n",
       "    </tr>\n",
       "    <tr>\n",
       "      <th>13</th>\n",
       "      <td>14</td>\n",
       "      <td>20</td>\n",
       "      <td>RL</td>\n",
       "      <td>91.0</td>\n",
       "      <td>10652</td>\n",
       "      <td>Pave</td>\n",
       "      <td>NaN</td>\n",
       "      <td>IR1</td>\n",
       "      <td>Lvl</td>\n",
       "      <td>AllPub</td>\n",
       "      <td>...</td>\n",
       "      <td>0</td>\n",
       "      <td>NaN</td>\n",
       "      <td>NaN</td>\n",
       "      <td>NaN</td>\n",
       "      <td>0</td>\n",
       "      <td>8</td>\n",
       "      <td>2007</td>\n",
       "      <td>New</td>\n",
       "      <td>Partial</td>\n",
       "      <td>279500</td>\n",
       "    </tr>\n",
       "    <tr>\n",
       "      <th>14</th>\n",
       "      <td>15</td>\n",
       "      <td>20</td>\n",
       "      <td>RL</td>\n",
       "      <td>NaN</td>\n",
       "      <td>10920</td>\n",
       "      <td>Pave</td>\n",
       "      <td>NaN</td>\n",
       "      <td>IR1</td>\n",
       "      <td>Lvl</td>\n",
       "      <td>AllPub</td>\n",
       "      <td>...</td>\n",
       "      <td>0</td>\n",
       "      <td>NaN</td>\n",
       "      <td>GdWo</td>\n",
       "      <td>NaN</td>\n",
       "      <td>0</td>\n",
       "      <td>5</td>\n",
       "      <td>2008</td>\n",
       "      <td>WD</td>\n",
       "      <td>Normal</td>\n",
       "      <td>157000</td>\n",
       "    </tr>\n",
       "    <tr>\n",
       "      <th>15</th>\n",
       "      <td>16</td>\n",
       "      <td>45</td>\n",
       "      <td>RM</td>\n",
       "      <td>51.0</td>\n",
       "      <td>6120</td>\n",
       "      <td>Pave</td>\n",
       "      <td>NaN</td>\n",
       "      <td>Reg</td>\n",
       "      <td>Lvl</td>\n",
       "      <td>AllPub</td>\n",
       "      <td>...</td>\n",
       "      <td>0</td>\n",
       "      <td>NaN</td>\n",
       "      <td>GdPrv</td>\n",
       "      <td>NaN</td>\n",
       "      <td>0</td>\n",
       "      <td>7</td>\n",
       "      <td>2007</td>\n",
       "      <td>WD</td>\n",
       "      <td>Normal</td>\n",
       "      <td>132000</td>\n",
       "    </tr>\n",
       "    <tr>\n",
       "      <th>16</th>\n",
       "      <td>17</td>\n",
       "      <td>20</td>\n",
       "      <td>RL</td>\n",
       "      <td>NaN</td>\n",
       "      <td>11241</td>\n",
       "      <td>Pave</td>\n",
       "      <td>NaN</td>\n",
       "      <td>IR1</td>\n",
       "      <td>Lvl</td>\n",
       "      <td>AllPub</td>\n",
       "      <td>...</td>\n",
       "      <td>0</td>\n",
       "      <td>NaN</td>\n",
       "      <td>NaN</td>\n",
       "      <td>Shed</td>\n",
       "      <td>700</td>\n",
       "      <td>3</td>\n",
       "      <td>2010</td>\n",
       "      <td>WD</td>\n",
       "      <td>Normal</td>\n",
       "      <td>149000</td>\n",
       "    </tr>\n",
       "    <tr>\n",
       "      <th>17</th>\n",
       "      <td>18</td>\n",
       "      <td>90</td>\n",
       "      <td>RL</td>\n",
       "      <td>72.0</td>\n",
       "      <td>10791</td>\n",
       "      <td>Pave</td>\n",
       "      <td>NaN</td>\n",
       "      <td>Reg</td>\n",
       "      <td>Lvl</td>\n",
       "      <td>AllPub</td>\n",
       "      <td>...</td>\n",
       "      <td>0</td>\n",
       "      <td>NaN</td>\n",
       "      <td>NaN</td>\n",
       "      <td>Shed</td>\n",
       "      <td>500</td>\n",
       "      <td>10</td>\n",
       "      <td>2006</td>\n",
       "      <td>WD</td>\n",
       "      <td>Normal</td>\n",
       "      <td>90000</td>\n",
       "    </tr>\n",
       "    <tr>\n",
       "      <th>18</th>\n",
       "      <td>19</td>\n",
       "      <td>20</td>\n",
       "      <td>RL</td>\n",
       "      <td>66.0</td>\n",
       "      <td>13695</td>\n",
       "      <td>Pave</td>\n",
       "      <td>NaN</td>\n",
       "      <td>Reg</td>\n",
       "      <td>Lvl</td>\n",
       "      <td>AllPub</td>\n",
       "      <td>...</td>\n",
       "      <td>0</td>\n",
       "      <td>NaN</td>\n",
       "      <td>NaN</td>\n",
       "      <td>NaN</td>\n",
       "      <td>0</td>\n",
       "      <td>6</td>\n",
       "      <td>2008</td>\n",
       "      <td>WD</td>\n",
       "      <td>Normal</td>\n",
       "      <td>159000</td>\n",
       "    </tr>\n",
       "    <tr>\n",
       "      <th>19</th>\n",
       "      <td>20</td>\n",
       "      <td>20</td>\n",
       "      <td>RL</td>\n",
       "      <td>70.0</td>\n",
       "      <td>7560</td>\n",
       "      <td>Pave</td>\n",
       "      <td>NaN</td>\n",
       "      <td>Reg</td>\n",
       "      <td>Lvl</td>\n",
       "      <td>AllPub</td>\n",
       "      <td>...</td>\n",
       "      <td>0</td>\n",
       "      <td>NaN</td>\n",
       "      <td>MnPrv</td>\n",
       "      <td>NaN</td>\n",
       "      <td>0</td>\n",
       "      <td>5</td>\n",
       "      <td>2009</td>\n",
       "      <td>COD</td>\n",
       "      <td>Abnorml</td>\n",
       "      <td>139000</td>\n",
       "    </tr>\n",
       "  </tbody>\n",
       "</table>\n",
       "<p>20 rows × 81 columns</p>\n",
       "</div>"
      ],
      "text/plain": [
       "    Id  MSSubClass MSZoning  LotFrontage  LotArea Street Alley LotShape  \\\n",
       "0    1          60       RL         65.0     8450   Pave   NaN      Reg   \n",
       "1    2          20       RL         80.0     9600   Pave   NaN      Reg   \n",
       "2    3          60       RL         68.0    11250   Pave   NaN      IR1   \n",
       "3    4          70       RL         60.0     9550   Pave   NaN      IR1   \n",
       "4    5          60       RL         84.0    14260   Pave   NaN      IR1   \n",
       "5    6          50       RL         85.0    14115   Pave   NaN      IR1   \n",
       "6    7          20       RL         75.0    10084   Pave   NaN      Reg   \n",
       "7    8          60       RL          NaN    10382   Pave   NaN      IR1   \n",
       "8    9          50       RM         51.0     6120   Pave   NaN      Reg   \n",
       "9   10         190       RL         50.0     7420   Pave   NaN      Reg   \n",
       "10  11          20       RL         70.0    11200   Pave   NaN      Reg   \n",
       "11  12          60       RL         85.0    11924   Pave   NaN      IR1   \n",
       "12  13          20       RL          NaN    12968   Pave   NaN      IR2   \n",
       "13  14          20       RL         91.0    10652   Pave   NaN      IR1   \n",
       "14  15          20       RL          NaN    10920   Pave   NaN      IR1   \n",
       "15  16          45       RM         51.0     6120   Pave   NaN      Reg   \n",
       "16  17          20       RL          NaN    11241   Pave   NaN      IR1   \n",
       "17  18          90       RL         72.0    10791   Pave   NaN      Reg   \n",
       "18  19          20       RL         66.0    13695   Pave   NaN      Reg   \n",
       "19  20          20       RL         70.0     7560   Pave   NaN      Reg   \n",
       "\n",
       "   LandContour Utilities  ... PoolArea PoolQC  Fence MiscFeature MiscVal  \\\n",
       "0          Lvl    AllPub  ...        0    NaN    NaN         NaN       0   \n",
       "1          Lvl    AllPub  ...        0    NaN    NaN         NaN       0   \n",
       "2          Lvl    AllPub  ...        0    NaN    NaN         NaN       0   \n",
       "3          Lvl    AllPub  ...        0    NaN    NaN         NaN       0   \n",
       "4          Lvl    AllPub  ...        0    NaN    NaN         NaN       0   \n",
       "5          Lvl    AllPub  ...        0    NaN  MnPrv        Shed     700   \n",
       "6          Lvl    AllPub  ...        0    NaN    NaN         NaN       0   \n",
       "7          Lvl    AllPub  ...        0    NaN    NaN        Shed     350   \n",
       "8          Lvl    AllPub  ...        0    NaN    NaN         NaN       0   \n",
       "9          Lvl    AllPub  ...        0    NaN    NaN         NaN       0   \n",
       "10         Lvl    AllPub  ...        0    NaN    NaN         NaN       0   \n",
       "11         Lvl    AllPub  ...        0    NaN    NaN         NaN       0   \n",
       "12         Lvl    AllPub  ...        0    NaN    NaN         NaN       0   \n",
       "13         Lvl    AllPub  ...        0    NaN    NaN         NaN       0   \n",
       "14         Lvl    AllPub  ...        0    NaN   GdWo         NaN       0   \n",
       "15         Lvl    AllPub  ...        0    NaN  GdPrv         NaN       0   \n",
       "16         Lvl    AllPub  ...        0    NaN    NaN        Shed     700   \n",
       "17         Lvl    AllPub  ...        0    NaN    NaN        Shed     500   \n",
       "18         Lvl    AllPub  ...        0    NaN    NaN         NaN       0   \n",
       "19         Lvl    AllPub  ...        0    NaN  MnPrv         NaN       0   \n",
       "\n",
       "   MoSold YrSold  SaleType  SaleCondition  SalePrice  \n",
       "0       2   2008        WD         Normal     208500  \n",
       "1       5   2007        WD         Normal     181500  \n",
       "2       9   2008        WD         Normal     223500  \n",
       "3       2   2006        WD        Abnorml     140000  \n",
       "4      12   2008        WD         Normal     250000  \n",
       "5      10   2009        WD         Normal     143000  \n",
       "6       8   2007        WD         Normal     307000  \n",
       "7      11   2009        WD         Normal     200000  \n",
       "8       4   2008        WD        Abnorml     129900  \n",
       "9       1   2008        WD         Normal     118000  \n",
       "10      2   2008        WD         Normal     129500  \n",
       "11      7   2006       New        Partial     345000  \n",
       "12      9   2008        WD         Normal     144000  \n",
       "13      8   2007       New        Partial     279500  \n",
       "14      5   2008        WD         Normal     157000  \n",
       "15      7   2007        WD         Normal     132000  \n",
       "16      3   2010        WD         Normal     149000  \n",
       "17     10   2006        WD         Normal      90000  \n",
       "18      6   2008        WD         Normal     159000  \n",
       "19      5   2009       COD        Abnorml     139000  \n",
       "\n",
       "[20 rows x 81 columns]"
      ]
     },
     "execution_count": 2,
     "metadata": {},
     "output_type": "execute_result"
    }
   ],
   "source": [
    "#reading the datset\n",
    "housing_dataset = pd.read_csv(\"housing_train.csv\")\n",
    "housing_dataset.head(20)"
   ]
  },
  {
   "cell_type": "code",
   "execution_count": 3,
   "metadata": {},
   "outputs": [
    {
     "data": {
      "text/plain": [
       "(1460, 81)"
      ]
     },
     "execution_count": 3,
     "metadata": {},
     "output_type": "execute_result"
    }
   ],
   "source": [
    "#storing the copy of dataset in another dataframe\n",
    "housing_train=housing_dataset\n",
    "housing_train.shape"
   ]
  },
  {
   "cell_type": "markdown",
   "metadata": {},
   "source": [
    "# Visualizing"
   ]
  },
  {
   "cell_type": "code",
   "execution_count": 4,
   "metadata": {},
   "outputs": [
    {
     "data": {
      "image/png": "[encoded data removed]",
      "text/plain": [
       "<Figure size 720x432 with 1 Axes>"
      ]
     },
     "metadata": {
      "needs_background": "light"
     },
     "output_type": "display_data"
    }
   ],
   "source": [
    "# First we visually inspect a scatter plot of GrLivArea vs. SalePrice\n",
    "plt.figure(figsize=(10,6))\n",
    "sns.regplot(housing_train.GrLivArea, housing_train.SalePrice, scatter_kws={'alpha':0.3})\n",
    "plt.show()"
   ]
  },
  {
   "cell_type": "code",
   "execution_count": 5,
   "metadata": {},
   "outputs": [
    {
     "data": {
      "image/png": "[encoded data removed]",
      "text/plain": [
       "<Figure size 720x432 with 1 Axes>"
      ]
     },
     "metadata": {
      "needs_background": "light"
     },
     "output_type": "display_data"
    }
   ],
   "source": [
    "# We see the outliers but are also interested in those Partial Sale outliers\n",
    "plt.figure(figsize=(10,6))\n",
    "sns.regplot(housing_train[housing_train.SaleCondition == 'Partial'].GrLivArea,\n",
    "            housing_train[housing_train.SaleCondition == 'Partial'].SalePrice, scatter_kws={'alpha':0.3})\n",
    "plt.show()"
   ]
  },
  {
   "cell_type": "code",
   "execution_count": 6,
   "metadata": {},
   "outputs": [
    {
     "data": {
      "text/plain": [
       "'There are 4 observations that one may wish to remove from the data set before using it (a plot of SALE \\nPRICE versus GR LIV AREA will indicate them quickly). Three of them are true outliers (Partial Sales that likely don’t \\nrepresent actual market values) and two of them are simply unusual sales (very large houses priced relatively appropriately). \\nI would recommend removing any houses with more than 4000 square feet from the data set (which eliminates these 4 unusual \\nobservations).'"
      ]
     },
     "execution_count": 6,
     "metadata": {},
     "output_type": "execute_result"
    }
   ],
   "source": [
    "\"\"\"There are 4 observations that one may wish to remove from the data set before using it (a plot of SALE \n",
    "PRICE versus GR LIV AREA will indicate them quickly). Three of them are true outliers (Partial Sales that likely don’t \n",
    "represent actual market values) and two of them are simply unusual sales (very large houses priced relatively appropriately). \n",
    "I would recommend removing any houses with more than 4000 square feet from the data set (which eliminates these 4 unusual \n",
    "observations).\"\"\""
   ]
  },
  {
   "cell_type": "code",
   "execution_count": 7,
   "metadata": {},
   "outputs": [
    {
     "data": {
      "text/plain": [
       "(1456, 81)"
      ]
     },
     "execution_count": 7,
     "metadata": {},
     "output_type": "execute_result"
    }
   ],
   "source": [
    "housing_train.drop(housing_train[housing_train.GrLivArea >= 4000].index, inplace=True)\n",
    "housing_train.shape"
   ]
  },
  {
   "cell_type": "code",
   "execution_count": 8,
   "metadata": {},
   "outputs": [
    {
     "data": {
      "image/png": "[encoded data removed]",
      "text/plain": [
       "<Figure size 720x432 with 1 Axes>"
      ]
     },
     "metadata": {
      "needs_background": "light"
     },
     "output_type": "display_data"
    }
   ],
   "source": [
    "plt.figure(figsize=(10,6))\n",
    "sns.distplot(housing_train.SalePrice)\n",
    "plt.show()\n",
    "\n",
    "#Sales is right skewed and hence we have to take the log transform"
   ]
  },
  {
   "cell_type": "code",
   "execution_count": 9,
   "metadata": {},
   "outputs": [],
   "source": [
    "#reading the test datset\n",
    "housing_test_ = pd.read_csv(\"housing_test.csv\")\n",
    "housing_test=housing_test_"
   ]
  },
  {
   "cell_type": "code",
   "execution_count": 10,
   "metadata": {},
   "outputs": [],
   "source": [
    "#storing the numerical features\n",
    "num_train=housing_train.select_dtypes(include=[\"int64\",\"float64\"]).drop([\"SalePrice\",\"Id\"],axis=1)\n",
    "num_test=housing_test.select_dtypes(include=[\"int64\",\"float64\"]).drop([\"Id\"],axis=1)"
   ]
  },
  {
   "cell_type": "code",
   "execution_count": 11,
   "metadata": {},
   "outputs": [
    {
     "data": {
      "text/plain": [
       "(1456, 43)"
      ]
     },
     "execution_count": 11,
     "metadata": {},
     "output_type": "execute_result"
    }
   ],
   "source": [
    "#storing the categorical features\n",
    "cat=pd.concat([housing_train,housing_test]).select_dtypes(include=[\"object\"])\n",
    "cat.shape\n",
    "cat_train=cat.iloc[:1456,:]\n",
    "cat_train.shape"
   ]
  },
  {
   "cell_type": "markdown",
   "metadata": {},
   "source": [
    "# Feature Engineering on the numerical features on testing and training "
   ]
  },
  {
   "cell_type": "markdown",
   "metadata": {},
   "source": [
    "### Numerical training"
   ]
  },
  {
   "cell_type": "code",
   "execution_count": 12,
   "metadata": {
    "scrolled": true
   },
   "outputs": [
    {
     "data": {
      "text/plain": [
       "(1456, 45)"
      ]
     },
     "execution_count": 12,
     "metadata": {},
     "output_type": "execute_result"
    }
   ],
   "source": [
    "# Total Square Footage\n",
    "num_train['TotalSF'] = num_train.TotalBsmtSF + num_train.GrLivArea\n",
    "num_train['TotalFloorSF'] = num_train['1stFlrSF'] + num_train['2ndFlrSF']\n",
    "num_train['TotalPorchSF'] = num_train.OpenPorchSF + num_train.EnclosedPorch + \\\n",
    "    num_train['3SsnPorch'] + num_train.ScreenPorch\n",
    "    \n",
    "# Total Bathrooms\n",
    "num_train['TotalBathrooms'] = num_train.FullBath + .5 * num_train.HalfBath + \\\n",
    "    num_train.BsmtFullBath + .5 * num_train.BsmtHalfBath\n",
    "\n",
    "# Booleans\n",
    "num_train['HasBasement'] = num_train.TotalBsmtSF.apply(lambda x: 1 if x > 0 else 0)\n",
    "num_train['HasGarage'] = num_train.GarageArea.apply(lambda x: 1 if x > 0 else 0)\n",
    "num_train['HasPorch'] = num_train.TotalPorchSF.apply(lambda x: 1 if x > 0 else 0)\n",
    "num_train['HasPool'] = num_train.PoolArea.apply(lambda x: 1 if x > 0 else 0)\n",
    "num_train['WasRemodeled'] = (num_train.YearRemodAdd != num_train.YearBuilt).astype(np.int64)\n",
    "num_train['IsNew'] = (num_train.YearBuilt > 2000).astype(np.int64)\n",
    "num_train['WasCompleted'] = (cat_train.SaleCondition != 'Partial').astype(np.int64)\n",
    "num_train['BedroomAbvGr_T/F'] = (num_train.BedroomAbvGr > 0).astype(np.int64)\n",
    "num_train['KitchenAbvGr_T/F'] = (num_train.KitchenAbvGr > 0).astype(np.int64)\n",
    "\n",
    "#dropping features which are not required\n",
    "num_train.drop([\"YearRemodAdd\"],axis=1,inplace=True)\n",
    "num_train.drop([\"YearBuilt\"],axis=1,inplace=True)\n",
    "num_train.drop([\"MoSold\"],axis=1,inplace=True)\n",
    "num_train.drop([\"YrSold\"],axis=1,inplace=True)\n",
    "num_train.shape\n",
    "\n",
    "#filling nan values with zero\n",
    "num_train=num_train.fillna(0)\n",
    "num_train.isnull().sum()\n",
    "\n",
    "#remving duplicates from numerical features (if any)\n",
    "num_train = num_train.loc[:,~num_train.columns.duplicated()]\n",
    "num_train.shape"
   ]
  },
  {
   "cell_type": "code",
   "execution_count": 13,
   "metadata": {
    "scrolled": true
   },
   "outputs": [
    {
     "data": {
      "text/plain": [
       "(1459, 43)"
      ]
     },
     "execution_count": 13,
     "metadata": {},
     "output_type": "execute_result"
    }
   ],
   "source": [
    "cat_test=cat.iloc[1456:,:]\n",
    "cat_test.shape"
   ]
  },
  {
   "cell_type": "markdown",
   "metadata": {},
   "source": [
    "### Numerical test dataset"
   ]
  },
  {
   "cell_type": "code",
   "execution_count": 14,
   "metadata": {},
   "outputs": [
    {
     "data": {
      "text/plain": [
       "(1459, 45)"
      ]
     },
     "execution_count": 14,
     "metadata": {},
     "output_type": "execute_result"
    }
   ],
   "source": [
    "# Total Square Footage\n",
    "num_test['TotalSF'] = num_test.TotalBsmtSF + num_test.GrLivArea\n",
    "num_test['TotalFloorSF'] = num_test['1stFlrSF'] + num_test['2ndFlrSF']\n",
    "num_test['TotalPorchSF'] = num_test.OpenPorchSF + num_test.EnclosedPorch + \\\n",
    "    num_test['3SsnPorch'] + num_test.ScreenPorch\n",
    "    \n",
    "# Total Bathrooms\n",
    "num_test['TotalBathrooms'] = num_test.FullBath + .5 * num_test.HalfBath + \\\n",
    "    num_test.BsmtFullBath + .5 * num_test.BsmtHalfBath\n",
    "\n",
    "# Booleans\n",
    "num_test['HasBasement'] = num_test.TotalBsmtSF.apply(lambda x: 1 if x > 0 else 0)\n",
    "num_test['HasGarage'] = num_test.GarageArea.apply(lambda x: 1 if x > 0 else 0)\n",
    "num_test['HasPorch'] = num_test.TotalPorchSF.apply(lambda x: 1 if x > 0 else 0)\n",
    "num_test['HasPool'] = num_test.PoolArea.apply(lambda x: 1 if x > 0 else 0)\n",
    "num_test['WasRemodeled'] = (num_test.YearRemodAdd != num_test.YearBuilt).astype(np.int64)\n",
    "num_test['IsNew'] = (num_test.YearBuilt > 2000).astype(np.int64)\n",
    "num_test['WasCompleted'] = (cat_test.SaleCondition != 'Partial').astype(np.int64)\n",
    "num_test['BedroomAbvGr_T/F'] = (num_test.BedroomAbvGr > 0).astype(np.int64)\n",
    "num_test['KitchenAbvGr_T/F'] = (num_test.KitchenAbvGr > 0).astype(np.int64)\n",
    "\n",
    "#dropping features which are not required\n",
    "num_test.drop([\"YearRemodAdd\"],axis=1,inplace=True)\n",
    "num_test.drop([\"YearBuilt\"],axis=1,inplace=True)\n",
    "num_test.drop([\"MoSold\"],axis=1,inplace=True)\n",
    "num_test.drop([\"YrSold\"],axis=1,inplace=True)\n",
    "\n",
    "#filling nan values with zero\n",
    "num_test=num_test.fillna(0)\n",
    "num_test.isnull().sum()\n",
    "num_test.shape\n",
    "\n",
    "#remving duplicates from numerical features (if any)\n",
    "num_test = num_test.loc[:,~num_train.columns.duplicated()]\n",
    "num_test.shape"
   ]
  },
  {
   "cell_type": "markdown",
   "metadata": {},
   "source": [
    "# Feature Engineering on the Categorical columns "
   ]
  },
  {
   "cell_type": "code",
   "execution_count": 15,
   "metadata": {},
   "outputs": [
    {
     "data": {
      "text/plain": [
       "(2915, 183)"
      ]
     },
     "execution_count": 15,
     "metadata": {},
     "output_type": "execute_result"
    }
   ],
   "source": [
    "# Alley\n",
    "cat.Alley.replace({'Grvl':1, 'Pave':2}, inplace=True)\n",
    "\n",
    "# Lot Shape\n",
    "cat.LotShape.replace({'Reg':1, 'IR1':2, 'IR2':3, 'IR3':4}, inplace=True)\n",
    "\n",
    "# Land Contour\n",
    "cat.LandContour.replace({'Low':1, 'HLS':2, 'Bnk':3, 'Lvl':4}, inplace=True)\n",
    "\n",
    "# Utilities\n",
    "cat.Utilities.replace({'ELO':1, 'NoSeWa':2, 'NoSewr':3, 'AllPub':4}, inplace=True)\n",
    "\n",
    "# Land Slope\n",
    "cat.LandSlope.replace({'Sev':1, 'Mod':2, 'Gtl':3}, inplace=True)\n",
    "\n",
    "# Exterior Quality\n",
    "cat.ExterQual.replace({'Po':1, 'Fa':2, 'TA':3, 'Gd':4, 'Ex':5}, inplace=True)\n",
    "\n",
    "# Exterior Condition\n",
    "cat.ExterCond.replace({'Po':1, 'Fa':2, 'TA':3, 'Gd':4, 'Ex':5}, inplace=True)\n",
    "\n",
    "# Basement Quality\n",
    "cat.BsmtQual.replace({'Po':1, 'Fa':2, 'TA':3, 'Gd':4, 'Ex':5}, inplace=True)\n",
    "\n",
    "# Basement Condition\n",
    "cat.BsmtCond.replace({'Po':1, 'Fa':2, 'TA':3, 'Gd':4, 'Ex':5}, inplace=True)\n",
    "\n",
    "# Basement Exposure\n",
    "cat.BsmtExposure.replace({'No':1, 'Mn':2, 'Av':3, 'Gd':4}, inplace=True)\n",
    "\n",
    "# Finished Basement 1 Rating\n",
    "cat.BsmtFinType1.replace({'Unf':1, 'LwQ':2, 'Rec':3, 'BLQ':4, 'ALQ':5, 'GLQ':6}, inplace=True)\n",
    "\n",
    "# Finished Basement 2 Rating\n",
    "cat.BsmtFinType2.replace({'Unf':1, 'LwQ':2, 'Rec':3, 'BLQ':4, 'ALQ':5, 'GLQ':6}, inplace=True)\n",
    "\n",
    "# Heating Quality and Condition\n",
    "cat.HeatingQC.replace({'Po':1, 'Fa':2, 'TA':3, 'Gd':4, 'Ex':5}, inplace=True)\n",
    "\n",
    "# Kitchen Quality\n",
    "cat.KitchenQual.replace({'Po':1, 'Fa':2, 'TA':3, 'Gd':4, 'Ex':5}, inplace=True)\n",
    "\n",
    "# Home functionality\n",
    "cat.Functional.replace({'Sal':1, 'Sev':2, 'Maj2':3, 'Maj1':4, 'Mod':5, 'Min2':6, 'Min1':7, 'Typ':8}, inplace=True)\n",
    "\n",
    "# Fireplace Quality\n",
    "cat.FireplaceQu.replace({'Po':1, 'Fa':2, 'TA':3, 'Gd':4, 'Ex':5}, inplace=True)\n",
    "\n",
    "# Garage Finish\n",
    "cat.GarageFinish.replace({'Unf':1, 'RFn':2, 'Fin':3}, inplace=True)\n",
    "\n",
    "# Garage Quality\n",
    "cat.GarageQual.replace({'Po':1, 'Fa':2, 'TA':3, 'Gd':4, 'Ex':5}, inplace=True)\n",
    "\n",
    "# Garage Condition\n",
    "cat.GarageCond.replace({'Po':1, 'Fa':2, 'TA':3, 'Gd':4, 'Ex':5}, inplace=True)\n",
    "\n",
    "# Paved Driveway\n",
    "cat.PavedDrive.replace({'N':1, 'P':2, 'Y':3}, inplace=True)\n",
    "\n",
    "# Pool Quality\n",
    "cat.PoolQC.replace({'Fa':2, 'TA':3, 'Gd':4, 'Ex':5}, inplace=True)\n",
    "\n",
    "#CentralAir\n",
    "cat.CentralAir.replace({'N':0, 'Y':1}, inplace=True)\n",
    "\n",
    "\n",
    "#filling NAN Values with 0\n",
    "\n",
    "list_ordinal=[\"Alley\",\"LotShape\",\"LandContour\",\"Utilities\",\"LandSlope\",\"ExterQual\",\"ExterCond\",\"BsmtQual\",\"BsmtCond\",\"BsmtExposure\"\n",
    "      ,\"BsmtFinType1\",\"BsmtFinType2\",\"HeatingQC\",\"KitchenQual\",\"Functional\",\"FireplaceQu\",\"GarageFinish\",\"GarageQual\",\"GarageCond\"\n",
    "      ,\"PavedDrive\",\"PoolQC\",\"CentralAir\"]\n",
    "for j in list_ordinal:\n",
    "    cat[j]=cat[j].fillna(0)\n",
    "\n",
    "\n",
    "#Creating dummy variables where ordinality is not found\n",
    "\n",
    "list_dummy=[\"MSZoning\",\"Street\",\"LotConfig\",\"Neighborhood\",\"Condition1\",\"Condition2\",\"BldgType\",\"HouseStyle\",\"RoofStyle\"\n",
    "            ,\"RoofMatl\",\"Exterior1st\",\"Exterior2nd\",\"MasVnrType\",\"Foundation\",\"Heating\",\"Electrical\",\"GarageType\",\"Fence\"\n",
    "            ,\"MiscFeature\",\"SaleType\",\"SaleCondition\"]\n",
    "for i in list_dummy:\n",
    "    cat = pd.concat([cat,pd.get_dummies(cat[i], prefix=i)],axis=1)\n",
    "\n",
    "\n",
    "\n",
    "#Removing duplicates in the categorical features\n",
    "cat = cat.loc[:,~cat.columns.duplicated()]\n",
    "\n",
    "\n",
    "#deleting the string features because the object types has been stored as ordinal or dummy variables\n",
    "cat=cat.select_dtypes(exclude=\"object\")\n",
    "cat.shape"
   ]
  },
  {
   "cell_type": "markdown",
   "metadata": {},
   "source": [
    "# Separating the train and test categorical variables"
   ]
  },
  {
   "cell_type": "code",
   "execution_count": 16,
   "metadata": {
    "scrolled": true
   },
   "outputs": [
    {
     "name": "stdout",
     "output_type": "stream",
     "text": [
      "(1456, 183)\n"
     ]
    },
    {
     "data": {
      "text/plain": [
       "(1459, 183)"
      ]
     },
     "execution_count": 16,
     "metadata": {},
     "output_type": "execute_result"
    }
   ],
   "source": [
    "cat_train=cat.iloc[:1456,:]\n",
    "cat_test=cat.iloc[1456:,:]\n",
    "print(cat_train.shape)\n",
    "cat_test.shape"
   ]
  },
  {
   "cell_type": "markdown",
   "metadata": {},
   "source": [
    "# Creating the input and output variables for testing and training"
   ]
  },
  {
   "cell_type": "code",
   "execution_count": 17,
   "metadata": {},
   "outputs": [
    {
     "data": {
      "text/plain": [
       "(1456,)"
      ]
     },
     "execution_count": 17,
     "metadata": {},
     "output_type": "execute_result"
    }
   ],
   "source": [
    "#storing Y=output and appliying log transform to remove skewness\n",
    "Y=np.asarray(housing_train[\"SalePrice\"])\n",
    "Y=np.log(Y)\n",
    "Y.shape"
   ]
  },
  {
   "cell_type": "code",
   "execution_count": 43,
   "metadata": {},
   "outputs": [],
   "source": [
    "X=pd.concat([num_train,cat_train],axis=1) #defining the input variables\n",
    "#X=np.log1p(X)"
   ]
  },
  {
   "cell_type": "code",
   "execution_count": 44,
   "metadata": {
    "scrolled": true
   },
   "outputs": [
    {
     "name": "stdout",
     "output_type": "stream",
     "text": [
      "Train set: (1164, 228) (1164,)\n",
      "Test set: (292, 228) (292,)\n"
     ]
    }
   ],
   "source": [
    "#splitting the selected features into train and test subsets with test size of 20%\n",
    "X_train,X_test,Y_train,Y_test=train_test_split(X,Y,test_size=0.2,random_state=4)\n",
    "print ('Train set:', X_train.shape,  Y_train.shape)\n",
    "print ('Test set:', X_test.shape,  Y_test.shape)"
   ]
  },
  {
   "cell_type": "markdown",
   "metadata": {},
   "source": [
    "# Training with Linear Regression"
   ]
  },
  {
   "cell_type": "code",
   "execution_count": 45,
   "metadata": {},
   "outputs": [
    {
     "name": "stdout",
     "output_type": "stream",
     "text": [
      " y = -0.0006907158278607463 * x + 9.425568649516574\n"
     ]
    }
   ],
   "source": [
    "#defining the objects of linear regression and finding the outputs\n",
    "LR=LinearRegression()\n",
    "#training the model\n",
    "LR.fit(X_train,Y_train)\n",
    "m = LR.coef_[0]\n",
    "c = LR.intercept_\n",
    "print(' y = {0} * x + {1}'.format(m, c))"
   ]
  },
  {
   "cell_type": "code",
   "execution_count": 46,
   "metadata": {},
   "outputs": [],
   "source": [
    "#Predicting the outputs\n",
    "Y_pred = LR.predict(X_test)"
   ]
  },
  {
   "cell_type": "code",
   "execution_count": 47,
   "metadata": {},
   "outputs": [],
   "source": [
    "#Taking the antilog of ouput because it was log transformed earlier\n",
    "Y_predictions = np.exp(Y_pred) #antilog"
   ]
  },
  {
   "cell_type": "code",
   "execution_count": 48,
   "metadata": {},
   "outputs": [
    {
     "name": "stdout",
     "output_type": "stream",
     "text": [
      "Mean squared error: 0.01\n",
      "Root Mean squared error: 0.12\n",
      "Variance score: 0.91\n"
     ]
    }
   ],
   "source": [
    "# The mean squared error\n",
    "print(\"Mean squared error: %.2f\" % np.mean((Y_pred - Y_test) ** 2))\n",
    "#Root mean squarred error\n",
    "print(\"Root Mean squared error: %.2f\" % (np.mean((Y_pred - Y_test) ** 2))**0.5)\n",
    "# Explained variance score: 1 is perfect prediction\n",
    "print('Variance score: %.2f' % LR.score(X_test, Y_test))"
   ]
  },
  {
   "cell_type": "code",
   "execution_count": 24,
   "metadata": {},
   "outputs": [],
   "source": [
    "Xt=pd.concat([num_test,cat_test],axis=1) #training with the entire dataset as input"
   ]
  },
  {
   "cell_type": "markdown",
   "metadata": {},
   "source": [
    "# Training with entire train dataset as given from kaggle"
   ]
  },
  {
   "cell_type": "code",
   "execution_count": 25,
   "metadata": {},
   "outputs": [
    {
     "name": "stdout",
     "output_type": "stream",
     "text": [
      " y = -0.0007441178796020673 * x + 9.502285225450219\n"
     ]
    }
   ],
   "source": [
    "#defining the objects of linear regression and finding the outputs\n",
    "linreg=LinearRegression()\n",
    "#training the model\n",
    "linreg.fit(X,Y)\n",
    "mr = linreg.coef_[0]\n",
    "cr = linreg.intercept_\n",
    "print(' y = {0} * x + {1}'.format(mr, cr))"
   ]
  },
  {
   "cell_type": "code",
   "execution_count": 26,
   "metadata": {},
   "outputs": [],
   "source": [
    "#Predicting the outputs\n",
    "Y_output = linreg.predict(Xt)"
   ]
  },
  {
   "cell_type": "code",
   "execution_count": 27,
   "metadata": {},
   "outputs": [],
   "source": [
    "#Taking the antilog of ouput because it was log transformed earlier\n",
    "output = np.exp(Y_output) #antilog"
   ]
  },
  {
   "cell_type": "code",
   "execution_count": 28,
   "metadata": {},
   "outputs": [
    {
     "data": {
      "text/plain": [
       "array([121458.70629144, 181188.43023346, 177823.668907  , ...,\n",
       "       162431.50175979, 110683.0601226 , 215893.33726651])"
      ]
     },
     "execution_count": 28,
     "metadata": {},
     "output_type": "execute_result"
    }
   ],
   "source": [
    "output"
   ]
  },
  {
   "cell_type": "code",
   "execution_count": 29,
   "metadata": {},
   "outputs": [],
   "source": [
    "housing_test[\"output\"]=output #storing the output in a dataframe"
   ]
  },
  {
   "cell_type": "code",
   "execution_count": 30,
   "metadata": {},
   "outputs": [],
   "source": [
    "o1=housing_test[\"Id\"]\n",
    "o2=housing_test[\"output\"]"
   ]
  },
  {
   "cell_type": "code",
   "execution_count": 31,
   "metadata": {},
   "outputs": [],
   "source": [
    "final_prediction_housing=pd.concat([o1,o2],axis=1) #final dataframe"
   ]
  },
  {
   "cell_type": "code",
   "execution_count": 32,
   "metadata": {},
   "outputs": [],
   "source": [
    "final_prediction_housing.reset_index(drop=True, inplace=True) #Resetting the index"
   ]
  },
  {
   "cell_type": "code",
   "execution_count": 33,
   "metadata": {},
   "outputs": [],
   "source": [
    "final_prediction_housing.to_csv('housing_predictions.csv') #Storing in a CSV file"
   ]
  }
 ],
 "metadata": {
  "kernelspec": {
   "display_name": "Python 3",
   "language": "python",
   "name": "python3"
  },
  "language_info": {
   "codemirror_mode": {
    "name": "ipython",
    "version": 3
   },
   "file_extension": ".py",
   "mimetype": "text/x-python",
   "name": "python",
   "nbconvert_exporter": "python",
   "pygments_lexer": "ipython3",
   "version": "3.8.3"
  }
 },
 "nbformat": 4,
 "nbformat_minor": 4
}
